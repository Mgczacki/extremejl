{
 "cells": [
  {
   "cell_type": "markdown",
   "id": "85bfcc4d",
   "metadata": {},
   "source": [
    "# Benchmarking Extreme.jl"
   ]
  },
  {
   "cell_type": "code",
   "execution_count": 1,
   "id": "c4d38141",
   "metadata": {},
   "outputs": [],
   "source": [
    "using Extreme\n",
    "using BenchmarkTools\n",
    "using Distributions\n",
    "\n",
    "function get_inits(f, n_points_search)\n",
    "    d = Normal()\n",
    "    i⃗ = (repeat(transpose(f.nuclei_pos[1,:] |> cpu), outer = n_points_search) - rand(d, (n_points_search, 3))) .|> Float32\n",
    "end;"
   ]
  },
  {
   "cell_type": "markdown",
   "id": "832c19f4",
   "metadata": {},
   "source": [
    "Because BenchmarkTools.jl reads variables from global scope, we will be putting each test in a different cell."
   ]
  },
  {
   "cell_type": "markdown",
   "id": "37266e34",
   "metadata": {},
   "source": [
    "## Benchmarking in CPU"
   ]
  },
  {
   "cell_type": "code",
   "execution_count": 2,
   "id": "090d6872",
   "metadata": {},
   "outputs": [],
   "source": [
    "#Device to execute in\n",
    "d = cpu;"
   ]
  },
  {
   "cell_type": "markdown",
   "id": "9c2b8a32",
   "metadata": {},
   "source": [
    "## Complete testset"
   ]
  },
  {
   "cell_type": "code",
   "execution_count": 3,
   "id": "63598b32",
   "metadata": {},
   "outputs": [],
   "source": [
    "#Precompilation\n",
    "file = \"validation_data/h2o.wfn\"\n",
    "num_crit_points = 5\n",
    "f = read_wfn(file, device = d);\n",
    "i⃗ = get_inits(f, num_crit_points) .|> Float32 |> d\n",
    "r⃗_found, ρ⃗, iters = find_critical_ρ_points(i⃗, f);"
   ]
  },
  {
   "cell_type": "code",
   "execution_count": 4,
   "id": "aa9b3aa8",
   "metadata": {},
   "outputs": [
    {
     "name": "stdout",
     "output_type": "stream",
     "text": [
      "Benchmarking: validation_data/h2o.wfn with 5 C. Points\n",
      "Reading file took:\n",
      "  466.467 μs (3021 allocations: 185.95 KiB)\n",
      "Calculations took:\n",
      "  2.140 ms (6699 allocations: 2.10 MiB)\n"
     ]
    }
   ],
   "source": [
    "file = \"validation_data/h2o.wfn\"\n",
    "num_crit_points = 5\n",
    "println(\"Benchmarking: \" * file * \" with \" * string(num_crit_points) * \" C. Points\")\n",
    "println(\"Reading file took:\")\n",
    "f = @btime read_wfn(file, device = d);\n",
    "i⃗ = get_inits(f, num_crit_points) .|> Float32 |> d\n",
    "println(\"Calculations took:\")\n",
    "r⃗_found, ρ⃗, iters = @btime find_critical_ρ_points(i⃗, f) samples = 10;"
   ]
  },
  {
   "cell_type": "code",
   "execution_count": 5,
   "id": "189567cd",
   "metadata": {},
   "outputs": [
    {
     "name": "stdout",
     "output_type": "stream",
     "text": [
      "Benchmarking: validation_data/c2h6.wfn with 15 C. Points\n",
      "Reading file took:\n",
      "  1.627 ms (10515 allocations: 620.42 KiB)\n",
      "Calculations took:\n",
      "  3.466 ms (6699 allocations: 10.88 MiB)\n"
     ]
    }
   ],
   "source": [
    "file = \"validation_data/c2h6.wfn\"\n",
    "num_crit_points = 15\n",
    "println(\"Benchmarking: \" * file * \" with \" * string(num_crit_points) * \" C. Points\")\n",
    "println(\"Reading file took:\")\n",
    "f = @btime read_wfn(file, device = d);\n",
    "i⃗ = get_inits(f, num_crit_points) .|> Float32 |> d\n",
    "println(\"Calculations took:\")\n",
    "r⃗_found, ρ⃗, iters = @btime find_critical_ρ_points(i⃗, f) samples = 10;"
   ]
  },
  {
   "cell_type": "code",
   "execution_count": 6,
   "id": "238d2ba2",
   "metadata": {},
   "outputs": [
    {
     "name": "stdout",
     "output_type": "stream",
     "text": [
      "Benchmarking: validation_data/h2o2.wfn with 7 C. Points\n",
      "Reading file took:\n",
      "  1.268 ms (8233 allocations: 496.61 KiB)\n",
      "Calculations took:\n",
      "  2.684 ms (6699 allocations: 4.60 MiB)\n"
     ]
    }
   ],
   "source": [
    "file = \"validation_data/h2o2.wfn\"\n",
    "num_crit_points = 7\n",
    "println(\"Benchmarking: \" * file * \" with \" * string(num_crit_points) * \" C. Points\")\n",
    "println(\"Reading file took:\")\n",
    "f = @btime read_wfn(file, device = d);\n",
    "i⃗ = get_inits(f, num_crit_points) .|> Float32 |> d\n",
    "println(\"Calculations took:\")\n",
    "r⃗_found, ρ⃗, iters = @btime find_critical_ρ_points(i⃗, f) samples = 10;"
   ]
  },
  {
   "cell_type": "code",
   "execution_count": 7,
   "id": "9b6e57ba",
   "metadata": {},
   "outputs": [
    {
     "name": "stdout",
     "output_type": "stream",
     "text": [
      "Benchmarking: validation_data/thf.wfn with 27 C. Points\n",
      "Reading file took:\n",
      "  6.931 ms (44797 allocations: 2.49 MiB)\n",
      "Calculations took:\n",
      "  10.059 ms (7974 allocations: 40.90 MiB)\n"
     ]
    }
   ],
   "source": [
    "file = \"validation_data/thf.wfn\"\n",
    "num_crit_points = 27\n",
    "println(\"Benchmarking: \" * file * \" with \" * string(num_crit_points) * \" C. Points\")\n",
    "println(\"Reading file took:\")\n",
    "f = @btime read_wfn(file, device = d);\n",
    "i⃗ = get_inits(f, num_crit_points) .|> Float32 |> d\n",
    "println(\"Calculations took:\")\n",
    "r⃗_found, ρ⃗, iters = @btime find_critical_ρ_points(i⃗, f) samples = 10;"
   ]
  },
  {
   "cell_type": "code",
   "execution_count": 8,
   "id": "edf7c951",
   "metadata": {},
   "outputs": [
    {
     "name": "stdout",
     "output_type": "stream",
     "text": [
      "Benchmarking: validation_data/bz.wfn with 25 C. Points\n",
      "Reading file took:\n",
      "  7.994 ms (51607 allocations: 2.83 MiB)\n",
      "Calculations took:\n",
      "  10.857 ms (7974 allocations: 42.14 MiB)\n"
     ]
    }
   ],
   "source": [
    "file = \"validation_data/bz.wfn\"\n",
    "num_crit_points = 25\n",
    "println(\"Benchmarking: \" * file * \" with \" * string(num_crit_points) * \" C. Points\")\n",
    "println(\"Reading file took:\")\n",
    "f = @btime read_wfn(file, device = d);\n",
    "i⃗ = get_inits(f, num_crit_points) .|> Float32 |> d\n",
    "println(\"Calculations took:\")\n",
    "r⃗_found, ρ⃗, iters = @btime find_critical_ρ_points(i⃗, f) samples = 10;"
   ]
  },
  {
   "cell_type": "code",
   "execution_count": 9,
   "id": "39ae4571",
   "metadata": {},
   "outputs": [
    {
     "name": "stdout",
     "output_type": "stream",
     "text": [
      "Benchmarking: validation_data/cys.wfn with 29 C. Points\n",
      "Reading file took:\n",
      "  14.667 ms (94305 allocations: 5.03 MiB)\n",
      "Calculations took:\n",
      "  15.054 ms (7974 allocations: 62.46 MiB)\n"
     ]
    }
   ],
   "source": [
    "file = \"validation_data/cys.wfn\"\n",
    "num_crit_points = 29\n",
    "println(\"Benchmarking: \" * file * \" with \" * string(num_crit_points) * \" C. Points\")\n",
    "println(\"Reading file took:\")\n",
    "f = @btime read_wfn(file, device = d);\n",
    "i⃗ = get_inits(f, num_crit_points) .|> Float32 |> d\n",
    "println(\"Calculations took:\")\n",
    "r⃗_found, ρ⃗, iters = @btime find_critical_ρ_points(i⃗, f) samples = 10;"
   ]
  },
  {
   "cell_type": "code",
   "execution_count": 10,
   "id": "d4a9a698",
   "metadata": {},
   "outputs": [
    {
     "name": "stdout",
     "output_type": "stream",
     "text": [
      "Benchmarking: validation_data/ade.wfn with 33 C. Points\n",
      "Reading file took:\n",
      "  20.186 ms (129130 allocations: 7.18 MiB)\n",
      "Calculations took:\n",
      "  23.289 ms (7974 allocations: 88.17 MiB)\n"
     ]
    }
   ],
   "source": [
    "file = \"validation_data/ade.wfn\"\n",
    "num_crit_points = 33\n",
    "println(\"Benchmarking: \" * file * \" with \" * string(num_crit_points) * \" C. Points\")\n",
    "println(\"Reading file took:\")\n",
    "f = @btime read_wfn(file, device = d);\n",
    "i⃗ = get_inits(f, num_crit_points) .|> Float32 |> d\n",
    "println(\"Calculations took:\")\n",
    "r⃗_found, ρ⃗, iters = @btime find_critical_ρ_points(i⃗, f) samples = 10;"
   ]
  },
  {
   "cell_type": "code",
   "execution_count": 11,
   "id": "d6c91d19",
   "metadata": {},
   "outputs": [
    {
     "name": "stdout",
     "output_type": "stream",
     "text": [
      "Benchmarking: validation_data/tih2o6.wfn with 37 C. Points\n",
      "Reading file took:\n",
      "  23.066 ms (148029 allocations: 8.33 MiB)\n",
      "Calculations took:\n",
      "  25.998 ms (7974 allocations: 100.41 MiB)\n"
     ]
    }
   ],
   "source": [
    "file = \"validation_data/tih2o6.wfn\"\n",
    "num_crit_points = 37\n",
    "println(\"Benchmarking: \" * file * \" with \" * string(num_crit_points) * \" C. Points\")\n",
    "println(\"Reading file took:\")\n",
    "f = @btime read_wfn(file, device = d);\n",
    "i⃗ = get_inits(f, num_crit_points) .|> Float32 |> d\n",
    "println(\"Calculations took:\")\n",
    "r⃗_found, ρ⃗, iters = @btime find_critical_ρ_points(i⃗, f) samples = 10;"
   ]
  },
  {
   "cell_type": "code",
   "execution_count": 12,
   "id": "d94d6b81",
   "metadata": {},
   "outputs": [
    {
     "name": "stdout",
     "output_type": "stream",
     "text": [
      "Benchmarking: validation_data/phen.wfn with 49 C. Points\n",
      "Reading file took:\n",
      "  37.632 ms (242677 allocations: 13.04 MiB)\n",
      "Calculations took:\n",
      "  46.605 ms (8514 allocations: 181.93 MiB)\n"
     ]
    }
   ],
   "source": [
    "file = \"validation_data/phen.wfn\"\n",
    "num_crit_points = 49\n",
    "println(\"Benchmarking: \" * file * \" with \" * string(num_crit_points) * \" C. Points\")\n",
    "println(\"Reading file took:\")\n",
    "f = @btime read_wfn(file, device = d);\n",
    "i⃗ = get_inits(f, num_crit_points) .|> Float32 |> d\n",
    "println(\"Calculations took:\")\n",
    "r⃗_found, ρ⃗, iters = @btime find_critical_ρ_points(i⃗, f) samples = 10;"
   ]
  },
  {
   "cell_type": "markdown",
   "id": "d984ddb5",
   "metadata": {},
   "source": [
    "## Scale"
   ]
  },
  {
   "cell_type": "code",
   "execution_count": 13,
   "id": "a333e9f7",
   "metadata": {},
   "outputs": [
    {
     "name": "stdout",
     "output_type": "stream",
     "text": [
      "Benchmarking: validation_data/phen.wfn with 50 C. Points\n",
      "Reading file took:\n",
      "  37.659 ms (242677 allocations: 13.04 MiB)\n",
      "Calculations took:\n",
      "  45.689 ms (8514 allocations: 185.21 MiB)\n"
     ]
    }
   ],
   "source": [
    "file = \"validation_data/phen.wfn\"\n",
    "num_crit_points = 50\n",
    "println(\"Benchmarking: \" * file * \" with \" * string(num_crit_points) * \" C. Points\")\n",
    "println(\"Reading file took:\")\n",
    "f = @btime read_wfn(file, device = d);\n",
    "i⃗ = get_inits(f, num_crit_points) .|> Float32 |> d\n",
    "println(\"Calculations took:\")\n",
    "r⃗_found, ρ⃗, iters = @btime find_critical_ρ_points(i⃗, f) samples = 10;"
   ]
  },
  {
   "cell_type": "code",
   "execution_count": 14,
   "id": "655ad33a",
   "metadata": {},
   "outputs": [
    {
     "name": "stdout",
     "output_type": "stream",
     "text": [
      "Benchmarking: validation_data/phen.wfn with 100 C. Points\n",
      "Reading file took:\n",
      "  38.051 ms (242677 allocations: 13.04 MiB)\n",
      "Calculations took:\n",
      "  105.219 ms (8545 allocations: 348.34 MiB)\n"
     ]
    }
   ],
   "source": [
    "file = \"validation_data/phen.wfn\"\n",
    "num_crit_points = 100\n",
    "println(\"Benchmarking: \" * file * \" with \" * string(num_crit_points) * \" C. Points\")\n",
    "println(\"Reading file took:\")\n",
    "f = @btime read_wfn(file, device = d);\n",
    "i⃗ = get_inits(f, num_crit_points) .|> Float32 |> d\n",
    "println(\"Calculations took:\")\n",
    "r⃗_found, ρ⃗, iters = @btime find_critical_ρ_points(i⃗, f) samples = 10;"
   ]
  },
  {
   "cell_type": "code",
   "execution_count": 15,
   "id": "2e28d083",
   "metadata": {},
   "outputs": [
    {
     "name": "stdout",
     "output_type": "stream",
     "text": [
      "Benchmarking: validation_data/phen.wfn with 500 C. Points\n",
      "Reading file took:\n",
      "  37.777 ms (242677 allocations: 13.04 MiB)\n",
      "Calculations took:\n",
      "  469.368 ms (8560 allocations: 1.61 GiB)\n"
     ]
    }
   ],
   "source": [
    "file = \"validation_data/phen.wfn\"\n",
    "num_crit_points = 500\n",
    "println(\"Benchmarking: \" * file * \" with \" * string(num_crit_points) * \" C. Points\")\n",
    "println(\"Reading file took:\")\n",
    "f = @btime read_wfn(file, device = d);\n",
    "i⃗ = get_inits(f, num_crit_points) .|> Float32 |> d\n",
    "println(\"Calculations took:\")\n",
    "r⃗_found, ρ⃗, iters = @btime find_critical_ρ_points(i⃗, f) samples = 10;"
   ]
  },
  {
   "cell_type": "code",
   "execution_count": 16,
   "id": "f88e48a0",
   "metadata": {},
   "outputs": [
    {
     "name": "stdout",
     "output_type": "stream",
     "text": [
      "Benchmarking: validation_data/phen.wfn with 1000 C. Points\n",
      "Reading file took:\n",
      "  37.653 ms (242677 allocations: 13.04 MiB)\n",
      "Calculations took:\n",
      "  870.905 ms (8575 allocations: 3.21 GiB)\n"
     ]
    }
   ],
   "source": [
    "file = \"validation_data/phen.wfn\"\n",
    "num_crit_points = 1000\n",
    "println(\"Benchmarking: \" * file * \" with \" * string(num_crit_points) * \" C. Points\")\n",
    "println(\"Reading file took:\")\n",
    "f = @btime read_wfn(file, device = d);\n",
    "i⃗ = get_inits(f, num_crit_points) .|> Float32 |> d\n",
    "println(\"Calculations took:\")\n",
    "r⃗_found, ρ⃗, iters = @btime find_critical_ρ_points(i⃗, f) samples = 10;"
   ]
  },
  {
   "cell_type": "code",
   "execution_count": 17,
   "id": "f3929541",
   "metadata": {},
   "outputs": [
    {
     "name": "stdout",
     "output_type": "stream",
     "text": [
      "Benchmarking: validation_data/phen.wfn with 5000 C. Points\n",
      "Reading file took:\n",
      "  37.657 ms (242677 allocations: 13.04 MiB)\n",
      "Calculations took:\n",
      "  6.244 s (8742 allocations: 15.95 GiB)\n"
     ]
    }
   ],
   "source": [
    "file = \"validation_data/phen.wfn\"\n",
    "num_crit_points = 5000\n",
    "println(\"Benchmarking: \" * file * \" with \" * string(num_crit_points) * \" C. Points\")\n",
    "println(\"Reading file took:\")\n",
    "f = @btime read_wfn(file, device = d);\n",
    "i⃗ = get_inits(f, num_crit_points) .|> Float32 |> d\n",
    "println(\"Calculations took:\")\n",
    "r⃗_found, ρ⃗, iters = @btime find_critical_ρ_points(i⃗, f) samples = 10;"
   ]
  },
  {
   "cell_type": "code",
   "execution_count": 18,
   "id": "a0aad1c0",
   "metadata": {},
   "outputs": [
    {
     "name": "stdout",
     "output_type": "stream",
     "text": [
      "Benchmarking: validation_data/phen.wfn with 10000 C. Points\n",
      "Reading file took:\n",
      "  37.536 ms (242677 allocations: 13.04 MiB)\n",
      "Calculations took:\n",
      "  13.165 s (8742 allocations: 31.87 GiB)\n"
     ]
    }
   ],
   "source": [
    "file = \"validation_data/phen.wfn\"\n",
    "num_crit_points = 10_000\n",
    "println(\"Benchmarking: \" * file * \" with \" * string(num_crit_points) * \" C. Points\")\n",
    "println(\"Reading file took:\")\n",
    "f = @btime read_wfn(file, device = d);\n",
    "i⃗ = get_inits(f, num_crit_points) .|> Float32 |> d\n",
    "println(\"Calculations took:\")\n",
    "r⃗_found, ρ⃗, iters = @btime find_critical_ρ_points(i⃗, f) samples = 10;"
   ]
  },
  {
   "cell_type": "markdown",
   "id": "d764c561",
   "metadata": {},
   "source": [
    "## Benchmarking in GPU"
   ]
  },
  {
   "cell_type": "code",
   "execution_count": 19,
   "id": "c53df565",
   "metadata": {},
   "outputs": [],
   "source": [
    "#Device to execute in\n",
    "d = gpu;"
   ]
  },
  {
   "cell_type": "markdown",
   "id": "bce49343",
   "metadata": {},
   "source": [
    "## Complete testset"
   ]
  },
  {
   "cell_type": "code",
   "execution_count": 20,
   "id": "bc6df3a1",
   "metadata": {},
   "outputs": [],
   "source": [
    "#Precompilation\n",
    "file = \"validation_data/h2o.wfn\"\n",
    "num_crit_points = 5\n",
    "f = read_wfn(file, device = d);\n",
    "i⃗ = get_inits(f, num_crit_points) .|> Float32 |> d\n",
    "r⃗_found, ρ⃗, iters = find_critical_ρ_points(i⃗, f);"
   ]
  },
  {
   "cell_type": "code",
   "execution_count": 21,
   "id": "593aad63",
   "metadata": {},
   "outputs": [
    {
     "name": "stdout",
     "output_type": "stream",
     "text": [
      "Benchmarking: validation_data/h2o.wfn with 5 C. Points\n",
      "Reading file took:\n",
      "  513.806 μs (3062 allocations: 187.14 KiB)\n",
      "Calculations took:\n",
      "  30.055 ms (88347 allocations: 4.56 MiB)\n"
     ]
    }
   ],
   "source": [
    "file = \"validation_data/h2o.wfn\"\n",
    "num_crit_points = 5\n",
    "println(\"Benchmarking: \" * file * \" with \" * string(num_crit_points) * \" C. Points\")\n",
    "println(\"Reading file took:\")\n",
    "f = @btime read_wfn(file, device = d);\n",
    "i⃗ = get_inits(f, num_crit_points) .|> Float32 |> d\n",
    "println(\"Calculations took:\")\n",
    "r⃗_found, ρ⃗, iters = @btime find_critical_ρ_points(i⃗, f) samples = 10;"
   ]
  },
  {
   "cell_type": "code",
   "execution_count": 22,
   "id": "8868f8a7",
   "metadata": {},
   "outputs": [
    {
     "name": "stdout",
     "output_type": "stream",
     "text": [
      "Benchmarking: validation_data/c2h6.wfn with 15 C. Points\n",
      "Reading file took:\n",
      "  1.675 ms (10556 allocations: 621.61 KiB)\n",
      "Calculations took:\n",
      "  30.989 ms (90567 allocations: 4.59 MiB)\n"
     ]
    }
   ],
   "source": [
    "file = \"validation_data/c2h6.wfn\"\n",
    "num_crit_points = 15\n",
    "println(\"Benchmarking: \" * file * \" with \" * string(num_crit_points) * \" C. Points\")\n",
    "println(\"Reading file took:\")\n",
    "f = @btime read_wfn(file, device = d);\n",
    "i⃗ = get_inits(f, num_crit_points) .|> Float32 |> d\n",
    "println(\"Calculations took:\")\n",
    "r⃗_found, ρ⃗, iters = @btime find_critical_ρ_points(i⃗, f) samples = 10;"
   ]
  },
  {
   "cell_type": "code",
   "execution_count": 23,
   "id": "3337b96b",
   "metadata": {},
   "outputs": [
    {
     "name": "stdout",
     "output_type": "stream",
     "text": [
      "Benchmarking: validation_data/h2o2.wfn with 7 C. Points\n",
      "Reading file took:\n",
      "  1.310 ms (8274 allocations: 497.80 KiB)\n",
      "Calculations took:\n",
      "  32.632 ms (88797 allocations: 4.56 MiB)\n"
     ]
    }
   ],
   "source": [
    "file = \"validation_data/h2o2.wfn\"\n",
    "num_crit_points = 7\n",
    "println(\"Benchmarking: \" * file * \" with \" * string(num_crit_points) * \" C. Points\")\n",
    "println(\"Reading file took:\")\n",
    "f = @btime read_wfn(file, device = d);\n",
    "i⃗ = get_inits(f, num_crit_points) .|> Float32 |> d\n",
    "println(\"Calculations took:\")\n",
    "r⃗_found, ρ⃗, iters = @btime find_critical_ρ_points(i⃗, f) samples = 10;"
   ]
  },
  {
   "cell_type": "code",
   "execution_count": 24,
   "id": "89847e37",
   "metadata": {},
   "outputs": [
    {
     "name": "stdout",
     "output_type": "stream",
     "text": [
      "Benchmarking: validation_data/thf.wfn with 27 C. Points\n",
      "Reading file took:\n",
      "  6.930 ms (44838 allocations: 2.50 MiB)\n",
      "Calculations took:\n",
      "  33.078 ms (91033 allocations: 4.60 MiB)\n"
     ]
    }
   ],
   "source": [
    "file = \"validation_data/thf.wfn\"\n",
    "num_crit_points = 27\n",
    "println(\"Benchmarking: \" * file * \" with \" * string(num_crit_points) * \" C. Points\")\n",
    "println(\"Reading file took:\")\n",
    "f = @btime read_wfn(file, device = d);\n",
    "i⃗ = get_inits(f, num_crit_points) .|> Float32 |> d\n",
    "println(\"Calculations took:\")\n",
    "r⃗_found, ρ⃗, iters = @btime find_critical_ρ_points(i⃗, f) samples = 10;"
   ]
  },
  {
   "cell_type": "code",
   "execution_count": 25,
   "id": "70c34f57",
   "metadata": {},
   "outputs": [
    {
     "name": "stdout",
     "output_type": "stream",
     "text": [
      "Benchmarking: validation_data/bz.wfn with 25 C. Points\n",
      "Reading file took:\n",
      "  7.966 ms (51648 allocations: 2.83 MiB)\n",
      "Calculations took:\n",
      "  33.689 ms (91033 allocations: 4.60 MiB)\n"
     ]
    }
   ],
   "source": [
    "file = \"validation_data/bz.wfn\"\n",
    "num_crit_points = 25\n",
    "println(\"Benchmarking: \" * file * \" with \" * string(num_crit_points) * \" C. Points\")\n",
    "println(\"Reading file took:\")\n",
    "f = @btime read_wfn(file, device = d);\n",
    "i⃗ = get_inits(f, num_crit_points) .|> Float32 |> d\n",
    "println(\"Calculations took:\")\n",
    "r⃗_found, ρ⃗, iters = @btime find_critical_ρ_points(i⃗, f) samples = 10;"
   ]
  },
  {
   "cell_type": "code",
   "execution_count": 26,
   "id": "7ff8558f",
   "metadata": {},
   "outputs": [
    {
     "name": "stdout",
     "output_type": "stream",
     "text": [
      "Benchmarking: validation_data/cys.wfn with 29 C. Points\n",
      "Reading file took:\n",
      "  14.701 ms (94346 allocations: 5.03 MiB)\n",
      "Calculations took:\n",
      "  34.003 ms (91033 allocations: 4.60 MiB)\n"
     ]
    }
   ],
   "source": [
    "file = \"validation_data/cys.wfn\"\n",
    "num_crit_points = 29\n",
    "println(\"Benchmarking: \" * file * \" with \" * string(num_crit_points) * \" C. Points\")\n",
    "println(\"Reading file took:\")\n",
    "f = @btime read_wfn(file, device = d);\n",
    "i⃗ = get_inits(f, num_crit_points) .|> Float32 |> d\n",
    "println(\"Calculations took:\")\n",
    "r⃗_found, ρ⃗, iters = @btime find_critical_ρ_points(i⃗, f) samples = 10;"
   ]
  },
  {
   "cell_type": "code",
   "execution_count": 27,
   "id": "3254750c",
   "metadata": {},
   "outputs": [
    {
     "name": "stdout",
     "output_type": "stream",
     "text": [
      "Benchmarking: validation_data/ade.wfn with 33 C. Points\n",
      "Reading file took:\n",
      "  20.014 ms (129171 allocations: 7.18 MiB)\n",
      "Calculations took:\n",
      "  33.303 ms (91078 allocations: 4.60 MiB)\n"
     ]
    }
   ],
   "source": [
    "file = \"validation_data/ade.wfn\"\n",
    "num_crit_points = 33\n",
    "println(\"Benchmarking: \" * file * \" with \" * string(num_crit_points) * \" C. Points\")\n",
    "println(\"Reading file took:\")\n",
    "f = @btime read_wfn(file, device = d);\n",
    "i⃗ = get_inits(f, num_crit_points) .|> Float32 |> d\n",
    "println(\"Calculations took:\")\n",
    "r⃗_found, ρ⃗, iters = @btime find_critical_ρ_points(i⃗, f) samples = 10;"
   ]
  },
  {
   "cell_type": "code",
   "execution_count": 28,
   "id": "f79c1fc8",
   "metadata": {},
   "outputs": [
    {
     "name": "stdout",
     "output_type": "stream",
     "text": [
      "Benchmarking: validation_data/tih2o6.wfn with 37 C. Points\n",
      "Reading file took:\n",
      "  23.178 ms (148070 allocations: 8.33 MiB)\n",
      "Calculations took:\n",
      "  33.977 ms (91078 allocations: 4.60 MiB)\n"
     ]
    }
   ],
   "source": [
    "file = \"validation_data/tih2o6.wfn\"\n",
    "num_crit_points = 37\n",
    "println(\"Benchmarking: \" * file * \" with \" * string(num_crit_points) * \" C. Points\")\n",
    "println(\"Reading file took:\")\n",
    "f = @btime read_wfn(file, device = d);\n",
    "i⃗ = get_inits(f, num_crit_points) .|> Float32 |> d\n",
    "println(\"Calculations took:\")\n",
    "r⃗_found, ρ⃗, iters = @btime find_critical_ρ_points(i⃗, f) samples = 10;"
   ]
  },
  {
   "cell_type": "code",
   "execution_count": 29,
   "id": "260d351b",
   "metadata": {},
   "outputs": [
    {
     "name": "stdout",
     "output_type": "stream",
     "text": [
      "Benchmarking: validation_data/phen.wfn with 49 C. Points\n",
      "Reading file took:\n",
      "  37.786 ms (242718 allocations: 13.04 MiB)\n",
      "Calculations took:\n",
      "  34.472 ms (90598 allocations: 4.59 MiB)\n"
     ]
    }
   ],
   "source": [
    "file = \"validation_data/phen.wfn\"\n",
    "num_crit_points = 49\n",
    "println(\"Benchmarking: \" * file * \" with \" * string(num_crit_points) * \" C. Points\")\n",
    "println(\"Reading file took:\")\n",
    "f = @btime read_wfn(file, device = d);\n",
    "i⃗ = get_inits(f, num_crit_points) .|> Float32 |> d\n",
    "println(\"Calculations took:\")\n",
    "r⃗_found, ρ⃗, iters = @btime find_critical_ρ_points(i⃗, f) samples = 10;"
   ]
  },
  {
   "cell_type": "markdown",
   "id": "d3a3e220",
   "metadata": {},
   "source": [
    "## Scale"
   ]
  },
  {
   "cell_type": "code",
   "execution_count": 30,
   "id": "77e9acfa",
   "metadata": {},
   "outputs": [
    {
     "name": "stdout",
     "output_type": "stream",
     "text": [
      "Benchmarking: validation_data/phen.wfn with 50 C. Points\n",
      "Reading file took:\n",
      "  38.256 ms (242718 allocations: 13.04 MiB)\n",
      "Calculations took:\n",
      "  37.133 ms (90598 allocations: 4.59 MiB)\n"
     ]
    }
   ],
   "source": [
    "file = \"validation_data/phen.wfn\"\n",
    "num_crit_points = 50\n",
    "println(\"Benchmarking: \" * file * \" with \" * string(num_crit_points) * \" C. Points\")\n",
    "println(\"Reading file took:\")\n",
    "f = @btime read_wfn(file, device = d);\n",
    "i⃗ = get_inits(f, num_crit_points) .|> Float32 |> d\n",
    "println(\"Calculations took:\")\n",
    "r⃗_found, ρ⃗, iters = @btime find_critical_ρ_points(i⃗, f) samples = 10;"
   ]
  },
  {
   "cell_type": "code",
   "execution_count": 31,
   "id": "8c71a613",
   "metadata": {},
   "outputs": [
    {
     "name": "stdout",
     "output_type": "stream",
     "text": [
      "Benchmarking: validation_data/phen.wfn with 100 C. Points\n",
      "Reading file took:\n",
      "  37.708 ms (242718 allocations: 13.04 MiB)\n",
      "Calculations took:\n",
      "  36.785 ms (90614 allocations: 4.59 MiB)\n"
     ]
    }
   ],
   "source": [
    "file = \"validation_data/phen.wfn\"\n",
    "num_crit_points = 100\n",
    "println(\"Benchmarking: \" * file * \" with \" * string(num_crit_points) * \" C. Points\")\n",
    "println(\"Reading file took:\")\n",
    "f = @btime read_wfn(file, device = d);\n",
    "i⃗ = get_inits(f, num_crit_points) .|> Float32 |> d\n",
    "println(\"Calculations took:\")\n",
    "r⃗_found, ρ⃗, iters = @btime find_critical_ρ_points(i⃗, f) samples = 10;"
   ]
  },
  {
   "cell_type": "code",
   "execution_count": 32,
   "id": "f0c3e48c",
   "metadata": {},
   "outputs": [
    {
     "name": "stdout",
     "output_type": "stream",
     "text": [
      "Benchmarking: validation_data/phen.wfn with 500 C. Points\n",
      "Reading file took:\n",
      "  37.914 ms (242718 allocations: 13.04 MiB)\n",
      "Calculations took:\n",
      "  57.016 ms (91530 allocations: 4.63 MiB)\n"
     ]
    }
   ],
   "source": [
    "file = \"validation_data/phen.wfn\"\n",
    "num_crit_points = 500\n",
    "println(\"Benchmarking: \" * file * \" with \" * string(num_crit_points) * \" C. Points\")\n",
    "println(\"Reading file took:\")\n",
    "f = @btime read_wfn(file, device = d);\n",
    "i⃗ = get_inits(f, num_crit_points) .|> Float32 |> d\n",
    "println(\"Calculations took:\")\n",
    "r⃗_found, ρ⃗, iters = @btime find_critical_ρ_points(i⃗, f) samples = 10;"
   ]
  },
  {
   "cell_type": "code",
   "execution_count": 33,
   "id": "b69490a0",
   "metadata": {},
   "outputs": [
    {
     "name": "stdout",
     "output_type": "stream",
     "text": [
      "Benchmarking: validation_data/phen.wfn with 1000 C. Points\n",
      "Reading file took:\n",
      "  38.050 ms (242718 allocations: 13.04 MiB)\n",
      "Calculations took:\n",
      "  92.966 ms (92789 allocations: 4.65 MiB)\n"
     ]
    }
   ],
   "source": [
    "file = \"validation_data/phen.wfn\"\n",
    "num_crit_points = 1000\n",
    "println(\"Benchmarking: \" * file * \" with \" * string(num_crit_points) * \" C. Points\")\n",
    "println(\"Reading file took:\")\n",
    "f = @btime read_wfn(file, device = d);\n",
    "i⃗ = get_inits(f, num_crit_points) .|> Float32 |> d\n",
    "println(\"Calculations took:\")\n",
    "r⃗_found, ρ⃗, iters = @btime find_critical_ρ_points(i⃗, f) samples = 10;"
   ]
  },
  {
   "cell_type": "code",
   "execution_count": 34,
   "id": "690a5988",
   "metadata": {},
   "outputs": [
    {
     "name": "stdout",
     "output_type": "stream",
     "text": [
      "Benchmarking: validation_data/phen.wfn with 5000 C. Points\n",
      "Reading file took:\n",
      "  37.711 ms (242718 allocations: 13.04 MiB)\n",
      "Calculations took:\n",
      "  401.652 ms (97275 allocations: 4.79 MiB)\n"
     ]
    }
   ],
   "source": [
    "file = \"validation_data/phen.wfn\"\n",
    "num_crit_points = 5000\n",
    "println(\"Benchmarking: \" * file * \" with \" * string(num_crit_points) * \" C. Points\")\n",
    "println(\"Reading file took:\")\n",
    "f = @btime read_wfn(file, device = d);\n",
    "i⃗ = get_inits(f, num_crit_points) .|> Float32 |> d\n",
    "println(\"Calculations took:\")\n",
    "r⃗_found, ρ⃗, iters = @btime find_critical_ρ_points(i⃗, f) samples = 10;"
   ]
  },
  {
   "cell_type": "code",
   "execution_count": 35,
   "id": "e681cd5c",
   "metadata": {},
   "outputs": [
    {
     "name": "stdout",
     "output_type": "stream",
     "text": [
      "Benchmarking: validation_data/phen.wfn with 10000 C. Points\n",
      "Reading file took:\n",
      "  37.742 ms (242718 allocations: 13.04 MiB)\n",
      "Calculations took:\n",
      "  806.146 ms (97457 allocations: 4.79 MiB)\n"
     ]
    }
   ],
   "source": [
    "file = \"validation_data/phen.wfn\"\n",
    "num_crit_points = 10_000\n",
    "println(\"Benchmarking: \" * file * \" with \" * string(num_crit_points) * \" C. Points\")\n",
    "println(\"Reading file took:\")\n",
    "f = @btime read_wfn(file, device = d);\n",
    "i⃗ = get_inits(f, num_crit_points) .|> Float32 |> d\n",
    "println(\"Calculations took:\")\n",
    "r⃗_found, ρ⃗, iters = @btime find_critical_ρ_points(i⃗, f) samples = 10;"
   ]
  }
 ],
 "metadata": {
  "kernelspec": {
   "display_name": "Julia 1.6.3",
   "language": "julia",
   "name": "julia-1.6"
  },
  "language_info": {
   "file_extension": ".jl",
   "mimetype": "application/julia",
   "name": "julia",
   "version": "1.6.3"
  }
 },
 "nbformat": 4,
 "nbformat_minor": 5
}
