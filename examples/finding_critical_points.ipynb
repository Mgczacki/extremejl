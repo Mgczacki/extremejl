{
 "cells": [
  {
   "cell_type": "code",
   "execution_count": 1,
   "id": "aebde98b",
   "metadata": {},
   "outputs": [],
   "source": [
    "filepath = \"test_data/H2.wfn\"\n",
    "\n",
    "using ext94"
   ]
  },
  {
   "cell_type": "code",
   "execution_count": 2,
   "id": "d5b1508f",
   "metadata": {},
   "outputs": [
    {
     "data": {
      "text/plain": [
       "\"H2_gas\""
      ]
     },
     "execution_count": 2,
     "metadata": {},
     "output_type": "execute_result"
    }
   ],
   "source": [
    "#Struct containing all relevant WFN information\n",
    "f = read_wfn(filepath, device = gpu);\n",
    "#We store the data structures in the GPU.\n",
    "f.title"
   ]
  },
  {
   "cell_type": "markdown",
   "id": "63c47059",
   "metadata": {},
   "source": [
    "### Some information from the read WFN file."
   ]
  },
  {
   "cell_type": "code",
   "execution_count": 3,
   "id": "396289a4",
   "metadata": {},
   "outputs": [
    {
     "data": {
      "text/plain": [
       "2×3 CUDA.CuArray{Float32, 2, CUDA.Mem.DeviceBuffer}:\n",
       " 0.0  0.0   0.69742\n",
       " 0.0  0.0  -0.69742"
      ]
     },
     "execution_count": 3,
     "metadata": {},
     "output_type": "execute_result"
    }
   ],
   "source": [
    "#The nuclei positions\n",
    "f.nuclei_pos"
   ]
  },
  {
   "cell_type": "markdown",
   "id": "6fff31a8",
   "metadata": {},
   "source": [
    "### Finding the critical points"
   ]
  },
  {
   "cell_type": "code",
   "execution_count": 4,
   "id": "dc45a9ec",
   "metadata": {},
   "outputs": [
    {
     "data": {
      "text/plain": [
       "10×3 CUDA.CuArray{Float32, 2, CUDA.Mem.DeviceBuffer}:\n",
       " 0.0   0.0   0.0\n",
       " 0.1   0.0   0.7\n",
       " 0.0   0.0  -0.7\n",
       " 0.0   1.0   0.0\n",
       " 1.0  -1.0   0.0\n",
       " 0.4   0.5   0.5\n",
       " 1.0   1.0   1.0\n",
       " 0.0   0.0   0.6\n",
       " 0.0   0.0   0.5\n",
       " 0.0  10.0  10.0"
      ]
     },
     "execution_count": 4,
     "metadata": {},
     "output_type": "execute_result"
    }
   ],
   "source": [
    "#Initial guesses for our Newton-Raphson search algorithm\n",
    "r⃗ = [0 0 0;\n",
    "     0.1 0 0.7;\n",
    "     0 0 -0.7;\n",
    "     0 1 0;\n",
    "     1 -1 0;\n",
    "     0.4 0.5 0.5;\n",
    "     1 1 1;\n",
    "     0 0 0.6;\n",
    "     0 0 0.5;\n",
    "     0 10 10] .|> Float32 |> gpu"
   ]
  },
  {
   "cell_type": "code",
   "execution_count": 5,
   "id": "701de93b",
   "metadata": {},
   "outputs": [
    {
     "ename": "LoadError",
     "evalue": "InvalidIRError: compiling kernel partial_mapreduce_grid(typeof(identity), typeof(min), Int32, CartesianIndices{1, Tuple{Base.OneTo{Int64}}}, CartesianIndices{1, Tuple{Base.OneTo{Int64}}}, Val{true}, CUDA.CuDeviceMatrix{Int32, 1}, Base.Broadcast.Broadcasted{CUDA.CuArrayStyle{1}, Tuple{Base.OneTo{Int64}}, typeof(identity), Tuple{CUDA.CuDeviceVector{Int32, 1}}}) resulted in invalid LLVM IR\nReason: unsupported call to an unknown function (call to julia.ptls_states)\nStacktrace:\n [1] \u001b[0m\u001b[1mmultiple call sites\u001b[22m\n\u001b[90m   @ \u001b[39m\u001b[90;4munknown:0\u001b[0m\nReason: unsupported call to an unknown function (call to julia.gpu.state_getter)\nStacktrace:\n [1] \u001b[0m\u001b[1mmacro expansion\u001b[22m\n\u001b[90m   @ \u001b[39m\u001b[90m~/.julia/packages/LLVM/WjSQG/src/interop/\u001b[39m\u001b[90;4mbase.jl:45\u001b[0m\n [2] \u001b[0m\u001b[1mmacro expansion\u001b[22m\n\u001b[90m   @ \u001b[39m\u001b[90m./\u001b[39m\u001b[90;4mnone:0\u001b[0m\n [3] \u001b[0m\u001b[1mkernel_state\u001b[22m\n\u001b[90m   @ \u001b[39m\u001b[90m./\u001b[39m\u001b[90;4mnone:0\u001b[0m\n [4] \u001b[0m\u001b[1mexception_flag\u001b[22m\n\u001b[90m   @ \u001b[39m\u001b[90m~/.julia/packages/CUDA/DfvRa/src/device/\u001b[39m\u001b[90;4mruntime.jl:33\u001b[0m\n [5] \u001b[0m\u001b[1msignal_exception\u001b[22m\n\u001b[90m   @ \u001b[39m\u001b[90m~/.julia/packages/CUDA/DfvRa/src/device/\u001b[39m\u001b[90;4mruntime.jl:36\u001b[0m\n [6] \u001b[0m\u001b[1mmultiple call sites\u001b[22m\n\u001b[90m   @ \u001b[39m\u001b[90;4munknown:0\u001b[0m",
     "output_type": "error",
     "traceback": [
      "InvalidIRError: compiling kernel partial_mapreduce_grid(typeof(identity), typeof(min), Int32, CartesianIndices{1, Tuple{Base.OneTo{Int64}}}, CartesianIndices{1, Tuple{Base.OneTo{Int64}}}, Val{true}, CUDA.CuDeviceMatrix{Int32, 1}, Base.Broadcast.Broadcasted{CUDA.CuArrayStyle{1}, Tuple{Base.OneTo{Int64}}, typeof(identity), Tuple{CUDA.CuDeviceVector{Int32, 1}}}) resulted in invalid LLVM IR\nReason: unsupported call to an unknown function (call to julia.ptls_states)\nStacktrace:\n [1] \u001b[0m\u001b[1mmultiple call sites\u001b[22m\n\u001b[90m   @ \u001b[39m\u001b[90;4munknown:0\u001b[0m\nReason: unsupported call to an unknown function (call to julia.gpu.state_getter)\nStacktrace:\n [1] \u001b[0m\u001b[1mmacro expansion\u001b[22m\n\u001b[90m   @ \u001b[39m\u001b[90m~/.julia/packages/LLVM/WjSQG/src/interop/\u001b[39m\u001b[90;4mbase.jl:45\u001b[0m\n [2] \u001b[0m\u001b[1mmacro expansion\u001b[22m\n\u001b[90m   @ \u001b[39m\u001b[90m./\u001b[39m\u001b[90;4mnone:0\u001b[0m\n [3] \u001b[0m\u001b[1mkernel_state\u001b[22m\n\u001b[90m   @ \u001b[39m\u001b[90m./\u001b[39m\u001b[90;4mnone:0\u001b[0m\n [4] \u001b[0m\u001b[1mexception_flag\u001b[22m\n\u001b[90m   @ \u001b[39m\u001b[90m~/.julia/packages/CUDA/DfvRa/src/device/\u001b[39m\u001b[90;4mruntime.jl:33\u001b[0m\n [5] \u001b[0m\u001b[1msignal_exception\u001b[22m\n\u001b[90m   @ \u001b[39m\u001b[90m~/.julia/packages/CUDA/DfvRa/src/device/\u001b[39m\u001b[90;4mruntime.jl:36\u001b[0m\n [6] \u001b[0m\u001b[1mmultiple call sites\u001b[22m\n\u001b[90m   @ \u001b[39m\u001b[90;4munknown:0\u001b[0m",
      "",
      "Stacktrace:",
      "  [1] check_ir(job::GPUCompiler.CompilerJob{GPUCompiler.PTXCompilerTarget, CUDA.CUDACompilerParams, GPUCompiler.FunctionSpec{typeof(CUDA.partial_mapreduce_grid), Tuple{typeof(identity), typeof(min), Int32, CartesianIndices{1, Tuple{Base.OneTo{Int64}}}, CartesianIndices{1, Tuple{Base.OneTo{Int64}}}, Val{true}, CUDA.CuDeviceMatrix{Int32, 1}, Base.Broadcast.Broadcasted{CUDA.CuArrayStyle{1}, Tuple{Base.OneTo{Int64}}, typeof(identity), Tuple{CUDA.CuDeviceVector{Int32, 1}}}}}}, args::LLVM.Module)",
      "    @ GPUCompiler ~/.julia/packages/GPUCompiler/fG3xK/src/validation.jl:111",
      "  [2] macro expansion",
      "    @ ~/.julia/packages/GPUCompiler/fG3xK/src/driver.jl:319 [inlined]",
      "  [3] macro expansion",
      "    @ ~/.julia/packages/TimerOutputs/SSeq1/src/TimerOutput.jl:252 [inlined]",
      "  [4] macro expansion",
      "    @ ~/.julia/packages/GPUCompiler/fG3xK/src/driver.jl:317 [inlined]",
      "  [5] emit_asm(job::GPUCompiler.CompilerJob, ir::LLVM.Module; strip::Bool, validate::Bool, format::LLVM.API.LLVMCodeGenFileType)",
      "    @ GPUCompiler ~/.julia/packages/GPUCompiler/fG3xK/src/utils.jl:62",
      "  [6] cufunction_compile(job::GPUCompiler.CompilerJob)",
      "    @ CUDA ~/.julia/packages/CUDA/9T5Sq/src/compiler/execution.jl:317",
      "  [7] cached_compilation(cache::Dict{UInt64, Any}, job::GPUCompiler.CompilerJob, compiler::typeof(CUDA.cufunction_compile), linker::typeof(CUDA.cufunction_link))",
      "    @ GPUCompiler ~/.julia/packages/GPUCompiler/fG3xK/src/cache.jl:89",
      "  [8] cufunction(f::typeof(CUDA.partial_mapreduce_grid), tt::Type{Tuple{typeof(identity), typeof(min), Int32, CartesianIndices{1, Tuple{Base.OneTo{Int64}}}, CartesianIndices{1, Tuple{Base.OneTo{Int64}}}, Val{true}, CUDA.CuDeviceMatrix{Int32, 1}, Base.Broadcast.Broadcasted{CUDA.CuArrayStyle{1}, Tuple{Base.OneTo{Int64}}, typeof(identity), Tuple{CUDA.CuDeviceVector{Int32, 1}}}}}; name::Nothing, kwargs::Base.Iterators.Pairs{Union{}, Union{}, Tuple{}, NamedTuple{(), Tuple{}}})",
      "    @ CUDA ~/.julia/packages/CUDA/9T5Sq/src/compiler/execution.jl:288",
      "  [9] cufunction",
      "    @ ~/.julia/packages/CUDA/9T5Sq/src/compiler/execution.jl:282 [inlined]",
      " [10] macro expansion",
      "    @ ~/.julia/packages/CUDA/9T5Sq/src/compiler/execution.jl:102 [inlined]",
      " [11] mapreducedim!(f::typeof(identity), op::typeof(min), R::CUDA.CuArray{Int32, 1, CUDA.Mem.DeviceBuffer}, A::Base.Broadcast.Broadcasted{CUDA.CuArrayStyle{1}, Tuple{Base.OneTo{Int64}}, typeof(identity), Tuple{CUDA.CuArray{Int32, 1, CUDA.Mem.DeviceBuffer}}}; init::Int32)",
      "    @ CUDA ~/.julia/packages/CUDA/9T5Sq/src/mapreduce.jl:225",
      " [12] _mapreduce(f::typeof(identity), op::typeof(min), As::CUDA.CuArray{Int32, 1, CUDA.Mem.DeviceBuffer}; dims::Colon, init::Nothing)",
      "    @ GPUArrays ~/.julia/packages/GPUArrays/0vqbc/src/host/mapreduce.jl:62",
      " [13] #mapreduce#20",
      "    @ ~/.julia/packages/GPUArrays/0vqbc/src/host/mapreduce.jl:28 [inlined]",
      " [14] mapreduce",
      "    @ ~/.julia/packages/GPUArrays/0vqbc/src/host/mapreduce.jl:28 [inlined]",
      " [15] #_minimum#694",
      "    @ ./reducedim.jl:878 [inlined]",
      " [16] _minimum",
      "    @ ./reducedim.jl:878 [inlined]",
      " [17] #_minimum#693",
      "    @ ./reducedim.jl:877 [inlined]",
      " [18] _minimum",
      "    @ ./reducedim.jl:877 [inlined]",
      " [19] #minimum#691",
      "    @ ./reducedim.jl:873 [inlined]",
      " [20] minimum",
      "    @ ./reducedim.jl:873 [inlined]",
      " [21] extremerange(A::CUDA.CuArray{Int32, 1, CUDA.Mem.DeviceBuffer})",
      "    @ Tullio ~/.julia/packages/Tullio/qPZkO/src/shifts.jl:75",
      " [22] macro expansion",
      "    @ ~/.julia/packages/Tullio/qPZkO/src/macro.jl:983 [inlined]",
      " [23] find_critical_ρ_points(r⃗::CUDA.CuArray{Float32, 2, CUDA.Mem.DeviceBuffer}, f::ext94.WFN; iters::Int64, conv_check::Float64)",
      "    @ ext94 ~/.julia/packages/ext94/HYZcP/src/calculations.jl:408",
      " [24] find_critical_ρ_points(r⃗::CUDA.CuArray{Float32, 2, CUDA.Mem.DeviceBuffer}, f::ext94.WFN)",
      "    @ ext94 ~/.julia/packages/ext94/HYZcP/src/calculations.jl:399",
      " [25] top-level scope",
      "    @ In[5]:1",
      " [26] eval",
      "    @ ./boot.jl:360 [inlined]",
      " [27] include_string(mapexpr::typeof(REPL.softscope), mod::Module, code::String, filename::String)",
      "    @ Base ./loading.jl:1116"
     ]
    }
   ],
   "source": [
    "r⃗_found, ρ⃗, iters = find_critical_ρ_points(r⃗, f);"
   ]
  },
  {
   "cell_type": "markdown",
   "id": "ddcefe1a",
   "metadata": {},
   "source": [
    "The found critical points."
   ]
  },
  {
   "cell_type": "code",
   "execution_count": 6,
   "id": "097f9272",
   "metadata": {},
   "outputs": [
    {
     "ename": "LoadError",
     "evalue": "UndefVarError: r⃗_found not defined",
     "output_type": "error",
     "traceback": [
      "UndefVarError: r⃗_found not defined",
      "",
      "Stacktrace:",
      " [1] top-level scope",
      "   @ :0",
      " [2] eval",
      "   @ ./boot.jl:360 [inlined]",
      " [3] include_string(mapexpr::typeof(REPL.softscope), mod::Module, code::String, filename::String)",
      "   @ Base ./loading.jl:1116"
     ]
    }
   ],
   "source": [
    "r⃗_found"
   ]
  },
  {
   "cell_type": "markdown",
   "id": "ff5b40f8",
   "metadata": {},
   "source": [
    "The number of iterations done."
   ]
  },
  {
   "cell_type": "code",
   "execution_count": 7,
   "id": "faf3f1ce",
   "metadata": {},
   "outputs": [
    {
     "ename": "LoadError",
     "evalue": "UndefVarError: iters not defined",
     "output_type": "error",
     "traceback": [
      "UndefVarError: iters not defined",
      "",
      "Stacktrace:",
      " [1] top-level scope",
      "   @ :0",
      " [2] eval",
      "   @ ./boot.jl:360 [inlined]",
      " [3] include_string(mapexpr::typeof(REPL.softscope), mod::Module, code::String, filename::String)",
      "   @ Base ./loading.jl:1116"
     ]
    }
   ],
   "source": [
    "iters"
   ]
  },
  {
   "cell_type": "markdown",
   "id": "4c7d955f",
   "metadata": {},
   "source": [
    "The associated density for each point."
   ]
  },
  {
   "cell_type": "code",
   "execution_count": 8,
   "id": "a9072852",
   "metadata": {},
   "outputs": [
    {
     "ename": "LoadError",
     "evalue": "UndefVarError: ρ⃗ not defined",
     "output_type": "error",
     "traceback": [
      "UndefVarError: ρ⃗ not defined",
      "",
      "Stacktrace:",
      " [1] top-level scope",
      "   @ :0",
      " [2] eval",
      "   @ ./boot.jl:360 [inlined]",
      " [3] include_string(mapexpr::typeof(REPL.softscope), mod::Module, code::String, filename::String)",
      "   @ Base ./loading.jl:1116"
     ]
    }
   ],
   "source": [
    "ρ⃗"
   ]
  },
  {
   "cell_type": "markdown",
   "id": "62b44e96",
   "metadata": {},
   "source": [
    "There is convergence to three different critical points:\n",
    "- (0, 0, 0)\n",
    "- (0, 0, 0.6703)\n",
    "- (0, 0, -0.6703)\n",
    "\n",
    "In many other cases, the algorithm diverges due to the initialization. Detecting divergence and letting the user know, as well as allowing early stopping when convergence is detected are desired features that will be implemented in a future update."
   ]
  },
  {
   "cell_type": "markdown",
   "id": "72f00061",
   "metadata": {},
   "source": [
    "## Using CPU"
   ]
  },
  {
   "cell_type": "markdown",
   "id": "d6af83b3",
   "metadata": {},
   "source": [
    "Because of the underlying technology, it is possible to run the same algorithm in CPU. In order to do so, the data structures for "
   ]
  },
  {
   "cell_type": "code",
   "execution_count": 9,
   "id": "9b7682d6",
   "metadata": {},
   "outputs": [],
   "source": [
    "f = read_wfn(filepath, device = cpu);\n",
    "r⃗ = [0 0 0;\n",
    "     0.1 0 0.7;\n",
    "     0 0 -0.7;\n",
    "     0 1 0;\n",
    "     1 -1 0;\n",
    "     0.4 0.5 0.5;\n",
    "     1 1 1;\n",
    "     0 0 0.6;\n",
    "     0 0 0.5;\n",
    "     0 10 10] .|> Float32 |> cpu\n",
    "r⃗_found, ρ⃗, iters = find_critical_ρ_points(r⃗, f);"
   ]
  },
  {
   "cell_type": "code",
   "execution_count": 10,
   "id": "507f60e2",
   "metadata": {},
   "outputs": [
    {
     "data": {
      "text/plain": [
       "10×3 Matrix{Float32}:\n",
       " -2.77729f-18   1.11746f-16  -1.61965f-9\n",
       " -8.21886f-7    6.91228f-18   0.670376\n",
       "  9.64199f-19   1.21076f-17  -0.670377\n",
       "  1.59386f-17   4.45761      -1.2829f-11\n",
       "  3.40471      -3.40471      -3.36881f-11\n",
       "  2.57315       3.21644       0.532813\n",
       "  3.18416       3.18416       2.3226\n",
       " -1.6956f-18    7.15339f-18   0.670375\n",
       " -2.77729f-18   1.11743f-16   2.15223f-5\n",
       "  0.0          12.5571       12.4105"
      ]
     },
     "execution_count": 10,
     "metadata": {},
     "output_type": "execute_result"
    }
   ],
   "source": [
    "r⃗_found"
   ]
  },
  {
   "cell_type": "code",
   "execution_count": 11,
   "id": "e9149ed1",
   "metadata": {},
   "outputs": [
    {
     "data": {
      "text/plain": [
       "10-element Vector{Float32}:\n",
       " 0.2637181\n",
       " 0.41073036\n",
       " 0.41073042\n",
       " 6.173389f-5\n",
       " 2.951971f-5\n",
       " 0.00011567752\n",
       " 1.9402662f-5\n",
       " 0.4107304\n",
       " 0.26371813\n",
       " 3.3823773f-16"
      ]
     },
     "execution_count": 11,
     "metadata": {},
     "output_type": "execute_result"
    }
   ],
   "source": [
    "ρ⃗"
   ]
  },
  {
   "cell_type": "code",
   "execution_count": 12,
   "id": "77e92380",
   "metadata": {},
   "outputs": [
    {
     "data": {
      "text/plain": [
       "10×1 Matrix{Float64}:\n",
       " 15.0\n",
       " 15.0\n",
       " 15.0\n",
       " 15.0\n",
       " 15.0\n",
       " 15.0\n",
       " 15.0\n",
       " 15.0\n",
       " 15.0\n",
       " 15.0"
      ]
     },
     "execution_count": 12,
     "metadata": {},
     "output_type": "execute_result"
    }
   ],
   "source": [
    "iters"
   ]
  },
  {
   "cell_type": "markdown",
   "id": "6f81cd77",
   "metadata": {},
   "source": [
    "The results are virtually identical. However, execution times start becoming dramatically different due to the parallelism capabilities of GPUs."
   ]
  },
  {
   "cell_type": "markdown",
   "id": "99044473",
   "metadata": {},
   "source": [
    "# Trying a different molecule"
   ]
  },
  {
   "cell_type": "code",
   "execution_count": 13,
   "id": "c151b073",
   "metadata": {},
   "outputs": [],
   "source": [
    "using BenchmarkTools\n",
    "\n",
    "filepath = \"test_data/S1-4PPdm.wfn\"\n",
    "i⃗ = [0 0 0;\n",
    "     0.1 0 0.3;\n",
    "     0 0 -0.2;\n",
    "     0 1 0;\n",
    "     1 -1 0;\n",
    "     0.4 0.5 0.5;\n",
    "     1 1 1;\n",
    "     -0.7 0 0;\n",
    "     0 0 0.5;\n",
    "     0 10 10] .|> Float32;"
   ]
  },
  {
   "cell_type": "code",
   "execution_count": 14,
   "id": "1812951b",
   "metadata": {},
   "outputs": [
    {
     "name": "stdout",
     "output_type": "stream",
     "text": [
      "  216.042 ms (8530 allocations: 444.46 MiB)\n"
     ]
    }
   ],
   "source": [
    "f = read_wfn(filepath, device = cpu);\n",
    "r⃗ = i⃗ |> cpu\n",
    "\n",
    "@btime r⃗_found, ρ⃗, iters = find_critical_ρ_points(r⃗, f);"
   ]
  },
  {
   "cell_type": "code",
   "execution_count": 15,
   "id": "79b961fb",
   "metadata": {},
   "outputs": [
    {
     "ename": "LoadError",
     "evalue": "InvalidIRError: compiling kernel partial_mapreduce_grid(typeof(identity), typeof(min), Int32, CartesianIndices{1, Tuple{Base.OneTo{Int64}}}, CartesianIndices{1, Tuple{Base.OneTo{Int64}}}, Val{true}, CUDA.CuDeviceMatrix{Int32, 1}, Base.Broadcast.Broadcasted{CUDA.CuArrayStyle{1}, Tuple{Base.OneTo{Int64}}, typeof(identity), Tuple{CUDA.CuDeviceVector{Int32, 1}}}) resulted in invalid LLVM IR\nReason: unsupported call to an unknown function (call to julia.ptls_states)\nStacktrace:\n [1] \u001b[0m\u001b[1mmultiple call sites\u001b[22m\n\u001b[90m   @ \u001b[39m\u001b[90;4munknown:0\u001b[0m\nReason: unsupported call to an unknown function (call to julia.gpu.state_getter)\nStacktrace:\n [1] \u001b[0m\u001b[1mmacro expansion\u001b[22m\n\u001b[90m   @ \u001b[39m\u001b[90m~/.julia/packages/LLVM/WjSQG/src/interop/\u001b[39m\u001b[90;4mbase.jl:45\u001b[0m\n [2] \u001b[0m\u001b[1mmacro expansion\u001b[22m\n\u001b[90m   @ \u001b[39m\u001b[90m./\u001b[39m\u001b[90;4mnone:0\u001b[0m\n [3] \u001b[0m\u001b[1mkernel_state\u001b[22m\n\u001b[90m   @ \u001b[39m\u001b[90m./\u001b[39m\u001b[90;4mnone:0\u001b[0m\n [4] \u001b[0m\u001b[1mexception_flag\u001b[22m\n\u001b[90m   @ \u001b[39m\u001b[90m~/.julia/packages/CUDA/DfvRa/src/device/\u001b[39m\u001b[90;4mruntime.jl:33\u001b[0m\n [5] \u001b[0m\u001b[1msignal_exception\u001b[22m\n\u001b[90m   @ \u001b[39m\u001b[90m~/.julia/packages/CUDA/DfvRa/src/device/\u001b[39m\u001b[90;4mruntime.jl:36\u001b[0m\n [6] \u001b[0m\u001b[1mmultiple call sites\u001b[22m\n\u001b[90m   @ \u001b[39m\u001b[90;4munknown:0\u001b[0m",
     "output_type": "error",
     "traceback": [
      "InvalidIRError: compiling kernel partial_mapreduce_grid(typeof(identity), typeof(min), Int32, CartesianIndices{1, Tuple{Base.OneTo{Int64}}}, CartesianIndices{1, Tuple{Base.OneTo{Int64}}}, Val{true}, CUDA.CuDeviceMatrix{Int32, 1}, Base.Broadcast.Broadcasted{CUDA.CuArrayStyle{1}, Tuple{Base.OneTo{Int64}}, typeof(identity), Tuple{CUDA.CuDeviceVector{Int32, 1}}}) resulted in invalid LLVM IR\nReason: unsupported call to an unknown function (call to julia.ptls_states)\nStacktrace:\n [1] \u001b[0m\u001b[1mmultiple call sites\u001b[22m\n\u001b[90m   @ \u001b[39m\u001b[90;4munknown:0\u001b[0m\nReason: unsupported call to an unknown function (call to julia.gpu.state_getter)\nStacktrace:\n [1] \u001b[0m\u001b[1mmacro expansion\u001b[22m\n\u001b[90m   @ \u001b[39m\u001b[90m~/.julia/packages/LLVM/WjSQG/src/interop/\u001b[39m\u001b[90;4mbase.jl:45\u001b[0m\n [2] \u001b[0m\u001b[1mmacro expansion\u001b[22m\n\u001b[90m   @ \u001b[39m\u001b[90m./\u001b[39m\u001b[90;4mnone:0\u001b[0m\n [3] \u001b[0m\u001b[1mkernel_state\u001b[22m\n\u001b[90m   @ \u001b[39m\u001b[90m./\u001b[39m\u001b[90;4mnone:0\u001b[0m\n [4] \u001b[0m\u001b[1mexception_flag\u001b[22m\n\u001b[90m   @ \u001b[39m\u001b[90m~/.julia/packages/CUDA/DfvRa/src/device/\u001b[39m\u001b[90;4mruntime.jl:33\u001b[0m\n [5] \u001b[0m\u001b[1msignal_exception\u001b[22m\n\u001b[90m   @ \u001b[39m\u001b[90m~/.julia/packages/CUDA/DfvRa/src/device/\u001b[39m\u001b[90;4mruntime.jl:36\u001b[0m\n [6] \u001b[0m\u001b[1mmultiple call sites\u001b[22m\n\u001b[90m   @ \u001b[39m\u001b[90;4munknown:0\u001b[0m",
      "",
      "Stacktrace:",
      "  [1] check_ir(job::GPUCompiler.CompilerJob{GPUCompiler.PTXCompilerTarget, CUDA.CUDACompilerParams, GPUCompiler.FunctionSpec{typeof(CUDA.partial_mapreduce_grid), Tuple{typeof(identity), typeof(min), Int32, CartesianIndices{1, Tuple{Base.OneTo{Int64}}}, CartesianIndices{1, Tuple{Base.OneTo{Int64}}}, Val{true}, CUDA.CuDeviceMatrix{Int32, 1}, Base.Broadcast.Broadcasted{CUDA.CuArrayStyle{1}, Tuple{Base.OneTo{Int64}}, typeof(identity), Tuple{CUDA.CuDeviceVector{Int32, 1}}}}}}, args::LLVM.Module)",
      "    @ GPUCompiler ~/.julia/packages/GPUCompiler/fG3xK/src/validation.jl:111",
      "  [2] macro expansion",
      "    @ ~/.julia/packages/GPUCompiler/fG3xK/src/driver.jl:319 [inlined]",
      "  [3] macro expansion",
      "    @ ~/.julia/packages/TimerOutputs/SSeq1/src/TimerOutput.jl:252 [inlined]",
      "  [4] macro expansion",
      "    @ ~/.julia/packages/GPUCompiler/fG3xK/src/driver.jl:317 [inlined]",
      "  [5] emit_asm(job::GPUCompiler.CompilerJob, ir::LLVM.Module; strip::Bool, validate::Bool, format::LLVM.API.LLVMCodeGenFileType)",
      "    @ GPUCompiler ~/.julia/packages/GPUCompiler/fG3xK/src/utils.jl:62",
      "  [6] cufunction_compile(job::GPUCompiler.CompilerJob)",
      "    @ CUDA ~/.julia/packages/CUDA/9T5Sq/src/compiler/execution.jl:317",
      "  [7] cached_compilation(cache::Dict{UInt64, Any}, job::GPUCompiler.CompilerJob, compiler::typeof(CUDA.cufunction_compile), linker::typeof(CUDA.cufunction_link))",
      "    @ GPUCompiler ~/.julia/packages/GPUCompiler/fG3xK/src/cache.jl:89",
      "  [8] cufunction(f::typeof(CUDA.partial_mapreduce_grid), tt::Type{Tuple{typeof(identity), typeof(min), Int32, CartesianIndices{1, Tuple{Base.OneTo{Int64}}}, CartesianIndices{1, Tuple{Base.OneTo{Int64}}}, Val{true}, CUDA.CuDeviceMatrix{Int32, 1}, Base.Broadcast.Broadcasted{CUDA.CuArrayStyle{1}, Tuple{Base.OneTo{Int64}}, typeof(identity), Tuple{CUDA.CuDeviceVector{Int32, 1}}}}}; name::Nothing, kwargs::Base.Iterators.Pairs{Union{}, Union{}, Tuple{}, NamedTuple{(), Tuple{}}})",
      "    @ CUDA ~/.julia/packages/CUDA/9T5Sq/src/compiler/execution.jl:288",
      "  [9] cufunction",
      "    @ ~/.julia/packages/CUDA/9T5Sq/src/compiler/execution.jl:282 [inlined]",
      " [10] macro expansion",
      "    @ ~/.julia/packages/CUDA/9T5Sq/src/compiler/execution.jl:102 [inlined]",
      " [11] mapreducedim!(f::typeof(identity), op::typeof(min), R::CUDA.CuArray{Int32, 1, CUDA.Mem.DeviceBuffer}, A::Base.Broadcast.Broadcasted{CUDA.CuArrayStyle{1}, Tuple{Base.OneTo{Int64}}, typeof(identity), Tuple{CUDA.CuArray{Int32, 1, CUDA.Mem.DeviceBuffer}}}; init::Int32)",
      "    @ CUDA ~/.julia/packages/CUDA/9T5Sq/src/mapreduce.jl:225",
      " [12] _mapreduce(f::typeof(identity), op::typeof(min), As::CUDA.CuArray{Int32, 1, CUDA.Mem.DeviceBuffer}; dims::Colon, init::Nothing)",
      "    @ GPUArrays ~/.julia/packages/GPUArrays/0vqbc/src/host/mapreduce.jl:62",
      " [13] #mapreduce#20",
      "    @ ~/.julia/packages/GPUArrays/0vqbc/src/host/mapreduce.jl:28 [inlined]",
      " [14] mapreduce",
      "    @ ~/.julia/packages/GPUArrays/0vqbc/src/host/mapreduce.jl:28 [inlined]",
      " [15] #_minimum#694",
      "    @ ./reducedim.jl:878 [inlined]",
      " [16] _minimum",
      "    @ ./reducedim.jl:878 [inlined]",
      " [17] #_minimum#693",
      "    @ ./reducedim.jl:877 [inlined]",
      " [18] _minimum",
      "    @ ./reducedim.jl:877 [inlined]",
      " [19] #minimum#691",
      "    @ ./reducedim.jl:873 [inlined]",
      " [20] minimum",
      "    @ ./reducedim.jl:873 [inlined]",
      " [21] extremerange(A::CUDA.CuArray{Int32, 1, CUDA.Mem.DeviceBuffer})",
      "    @ Tullio ~/.julia/packages/Tullio/qPZkO/src/shifts.jl:75",
      " [22] macro expansion",
      "    @ ~/.julia/packages/Tullio/qPZkO/src/macro.jl:983 [inlined]",
      " [23] find_critical_ρ_points(r⃗::CUDA.CuArray{Float32, 2, CUDA.Mem.DeviceBuffer}, f::ext94.WFN; iters::Int64, conv_check::Float64)",
      "    @ ext94 ~/.julia/packages/ext94/HYZcP/src/calculations.jl:408",
      " [24] find_critical_ρ_points(r⃗::CUDA.CuArray{Float32, 2, CUDA.Mem.DeviceBuffer}, f::ext94.WFN)",
      "    @ ext94 ~/.julia/packages/ext94/HYZcP/src/calculations.jl:399",
      " [25] var\"##core#350\"()",
      "    @ Main ~/.julia/packages/BenchmarkTools/uq9zP/src/execution.jl:479",
      " [26] var\"##sample#351\"(__params::BenchmarkTools.Parameters)",
      "    @ Main ~/.julia/packages/BenchmarkTools/uq9zP/src/execution.jl:485",
      " [27] _run(b::BenchmarkTools.Benchmark, p::BenchmarkTools.Parameters; verbose::Bool, pad::String, kwargs::Base.Iterators.Pairs{Symbol, Integer, NTuple{4, Symbol}, NamedTuple{(:samples, :evals, :gctrial, :gcsample), Tuple{Int64, Int64, Bool, Bool}}})",
      "    @ BenchmarkTools ~/.julia/packages/BenchmarkTools/uq9zP/src/execution.jl:98",
      " [28] #invokelatest#2",
      "    @ ./essentials.jl:710 [inlined]",
      " [29] #run_result#45",
      "    @ ~/.julia/packages/BenchmarkTools/uq9zP/src/execution.jl:33 [inlined]",
      " [30] run(b::BenchmarkTools.Benchmark, p::BenchmarkTools.Parameters; progressid::Nothing, nleaves::Float64, ndone::Float64, kwargs::Base.Iterators.Pairs{Symbol, Integer, NTuple{5, Symbol}, NamedTuple{(:verbose, :samples, :evals, :gctrial, :gcsample), Tuple{Bool, Int64, Int64, Bool, Bool}}})",
      "    @ BenchmarkTools ~/.julia/packages/BenchmarkTools/uq9zP/src/execution.jl:116",
      " [31] #warmup#54",
      "    @ ~/.julia/packages/BenchmarkTools/uq9zP/src/execution.jl:168 [inlined]",
      " [32] warmup(item::BenchmarkTools.Benchmark)",
      "    @ BenchmarkTools ~/.julia/packages/BenchmarkTools/uq9zP/src/execution.jl:168",
      " [33] top-level scope",
      "    @ ~/.julia/packages/BenchmarkTools/uq9zP/src/execution.jl:565",
      " [34] eval",
      "    @ ./boot.jl:360 [inlined]",
      " [35] include_string(mapexpr::typeof(REPL.softscope), mod::Module, code::String, filename::String)",
      "    @ Base ./loading.jl:1116"
     ]
    }
   ],
   "source": [
    "f = read_wfn(filepath, device = gpu);\n",
    "r⃗ = i⃗ |> gpu\n",
    "\n",
    "@btime r⃗_found, ρ⃗, iters = find_critical_ρ_points(r⃗, f);"
   ]
  },
  {
   "cell_type": "markdown",
   "id": "2724b9aa",
   "metadata": {},
   "source": [
    "## Trying a bigger search set"
   ]
  },
  {
   "cell_type": "code",
   "execution_count": 16,
   "id": "d3a0a502",
   "metadata": {},
   "outputs": [],
   "source": [
    "using Distributions\n",
    "#10,000 initial points\n",
    "n_points_search = 10_000\n",
    "d = Normal()\n",
    "\n",
    "i⃗ = rand(d, (n_points_search, 3)) .|> Float32;"
   ]
  },
  {
   "cell_type": "code",
   "execution_count": null,
   "id": "9e2c35a4",
   "metadata": {},
   "outputs": [],
   "source": [
    "f = read_wfn(filepath, device = cpu);\n",
    "r⃗ = i⃗ |> cpu\n",
    "\n",
    "@btime r⃗_found, ρ⃗, iters = find_critical_ρ_points(r⃗, f);"
   ]
  },
  {
   "cell_type": "code",
   "execution_count": null,
   "id": "adfc2c7e",
   "metadata": {},
   "outputs": [],
   "source": [
    "f = read_wfn(filepath, device = gpu);\n",
    "r⃗ = i⃗ |> gpu\n",
    "\n",
    "@btime r⃗_found, ρ⃗, iters = find_critical_ρ_points(r⃗, f);"
   ]
  }
 ],
 "metadata": {
  "kernelspec": {
   "display_name": "Julia 1.6.3",
   "language": "julia",
   "name": "julia-1.6"
  },
  "language_info": {
   "file_extension": ".jl",
   "mimetype": "application/julia",
   "name": "julia",
   "version": "1.6.3"
  }
 },
 "nbformat": 4,
 "nbformat_minor": 5
}
