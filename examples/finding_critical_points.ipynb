{
 "cells": [
  {
   "cell_type": "code",
   "execution_count": 1,
   "id": "aebde98b",
   "metadata": {},
   "outputs": [],
   "source": [
    "filepath = \"test_data/H2.wfn\"\n",
    "\n",
    "include(\"../wfn.jl\");\n",
    "include(\"../ext21.jl\");"
   ]
  },
  {
   "cell_type": "code",
   "execution_count": 2,
   "id": "d5b1508f",
   "metadata": {},
   "outputs": [
    {
     "data": {
      "text/plain": [
       "\"H2_gas\""
      ]
     },
     "execution_count": 2,
     "metadata": {},
     "output_type": "execute_result"
    }
   ],
   "source": [
    "#Struct containing all relevant WFN information\n",
    "f = read_wfn(filepath, device = gpu);\n",
    "#We store the data structures in the GPU.\n",
    "f.title"
   ]
  },
  {
   "cell_type": "markdown",
   "id": "63c47059",
   "metadata": {},
   "source": [
    "### Some information from the read WFN file."
   ]
  },
  {
   "cell_type": "code",
   "execution_count": 3,
   "id": "396289a4",
   "metadata": {},
   "outputs": [
    {
     "data": {
      "text/plain": [
       "2×3 CuArray{Float32, 2, CUDA.Mem.DeviceBuffer}:\n",
       " 0.0  0.0   0.69742\n",
       " 0.0  0.0  -0.69742"
      ]
     },
     "execution_count": 3,
     "metadata": {},
     "output_type": "execute_result"
    }
   ],
   "source": [
    "#The nuclei positions\n",
    "f.nuclei_pos"
   ]
  },
  {
   "cell_type": "markdown",
   "id": "6fff31a8",
   "metadata": {},
   "source": [
    "### Finding the critical points"
   ]
  },
  {
   "cell_type": "code",
   "execution_count": 4,
   "id": "dc45a9ec",
   "metadata": {},
   "outputs": [
    {
     "data": {
      "text/plain": [
       "10×3 CuArray{Float32, 2, CUDA.Mem.DeviceBuffer}:\n",
       " 0.0   0.0   0.0\n",
       " 0.1   0.0   0.7\n",
       " 0.0   0.0  -0.7\n",
       " 0.0   1.0   0.0\n",
       " 1.0  -1.0   0.0\n",
       " 0.4   0.5   0.5\n",
       " 1.0   1.0   1.0\n",
       " 0.0   0.0   0.6\n",
       " 0.0   0.0   0.5\n",
       " 0.0  10.0  10.0"
      ]
     },
     "execution_count": 4,
     "metadata": {},
     "output_type": "execute_result"
    }
   ],
   "source": [
    "#Initial guesses for our Newton-Raphson search algorithm\n",
    "r⃗ = [0 0 0;\n",
    "     0.1 0 0.7;\n",
    "     0 0 -0.7;\n",
    "     0 1 0;\n",
    "     1 -1 0;\n",
    "     0.4 0.5 0.5;\n",
    "     1 1 1;\n",
    "     0 0 0.6;\n",
    "     0 0 0.5;\n",
    "     0 10 10] .|> Float32 |> gpu"
   ]
  },
  {
   "cell_type": "code",
   "execution_count": 5,
   "id": "701de93b",
   "metadata": {},
   "outputs": [],
   "source": [
    "r⃗_found, ρ⃗, iters = find_critical_ρ_points(r⃗, f);"
   ]
  },
  {
   "cell_type": "markdown",
   "id": "ddcefe1a",
   "metadata": {},
   "source": [
    "The found critical points."
   ]
  },
  {
   "cell_type": "code",
   "execution_count": 6,
   "id": "097f9272",
   "metadata": {},
   "outputs": [
    {
     "data": {
      "text/plain": [
       "10×3 CuArray{Float32, 2, CUDA.Mem.DeviceBuffer}:\n",
       " -2.77729f-18   1.11746f-16  -1.41111f-9\n",
       " -8.21886f-7    4.11652f-18   0.670376\n",
       "  9.64199f-19   1.21076f-17  -0.670377\n",
       "  1.59395f-17   4.45761       2.85738f-11\n",
       "  3.40471      -3.40471       1.28304f-10\n",
       "  2.57315       3.21644       0.532813\n",
       "  3.18416       3.18416       2.3226\n",
       " -1.6956f-18    7.15339f-18   0.670375\n",
       " -2.77729f-18   1.11743f-16   2.15256f-5\n",
       "  0.0          12.5571       12.4105"
      ]
     },
     "execution_count": 6,
     "metadata": {},
     "output_type": "execute_result"
    }
   ],
   "source": [
    "r⃗_found"
   ]
  },
  {
   "cell_type": "markdown",
   "id": "ff5b40f8",
   "metadata": {},
   "source": [
    "The number of iterations done."
   ]
  },
  {
   "cell_type": "code",
   "execution_count": 7,
   "id": "faf3f1ce",
   "metadata": {},
   "outputs": [
    {
     "data": {
      "text/plain": [
       "10×1 CuArray{Float32, 2, CUDA.Mem.DeviceBuffer}:\n",
       " 15.0\n",
       " 15.0\n",
       " 15.0\n",
       " 15.0\n",
       " 15.0\n",
       " 15.0\n",
       " 15.0\n",
       " 15.0\n",
       " 15.0\n",
       " 15.0"
      ]
     },
     "execution_count": 7,
     "metadata": {},
     "output_type": "execute_result"
    }
   ],
   "source": [
    "iters"
   ]
  },
  {
   "cell_type": "markdown",
   "id": "4c7d955f",
   "metadata": {},
   "source": [
    "The associated density for each point."
   ]
  },
  {
   "cell_type": "code",
   "execution_count": 8,
   "id": "a9072852",
   "metadata": {},
   "outputs": [
    {
     "data": {
      "text/plain": [
       "10-element CuArray{Float32, 1, CUDA.Mem.DeviceBuffer}:\n",
       " 0.2637181\n",
       " 0.41073042\n",
       " 0.41073045\n",
       " 6.173389f-5\n",
       " 2.9519706f-5\n",
       " 0.00011567754\n",
       " 1.9402674f-5\n",
       " 0.41073042\n",
       " 0.2637181\n",
       " 3.3823704f-16"
      ]
     },
     "execution_count": 8,
     "metadata": {},
     "output_type": "execute_result"
    }
   ],
   "source": [
    "ρ⃗"
   ]
  },
  {
   "cell_type": "markdown",
   "id": "62b44e96",
   "metadata": {},
   "source": [
    "There is convergence to three different critical points:\n",
    "- (0, 0, 0)\n",
    "- (0, 0, 0.6703)\n",
    "- (0, 0, -0.6703)\n",
    "\n",
    "In many other cases, the algorithm diverges due to the initialization. Detecting divergence and letting the user know, as well as allowing early stopping when convergence is detected are desired features that will be implemented in a future update."
   ]
  },
  {
   "cell_type": "markdown",
   "id": "72f00061",
   "metadata": {},
   "source": [
    "## Using CPU"
   ]
  },
  {
   "cell_type": "markdown",
   "id": "d6af83b3",
   "metadata": {},
   "source": [
    "Because of the underlying technology, it is possible to run the same algorithm in CPU. In order to do so, the data structures for "
   ]
  },
  {
   "cell_type": "code",
   "execution_count": 10,
   "id": "9b7682d6",
   "metadata": {},
   "outputs": [],
   "source": [
    "f = read_wfn(filepath, device = cpu);\n",
    "r⃗ = [0 0 0;\n",
    "     0.1 0 0.7;\n",
    "     0 0 -0.7;\n",
    "     0 1 0;\n",
    "     1 -1 0;\n",
    "     0.4 0.5 0.5;\n",
    "     1 1 1;\n",
    "     0 0 0.6;\n",
    "     0 0 0.5;\n",
    "     0 10 10] .|> Float32 |> cpu\n",
    "r⃗_found, ρ⃗, iters = find_critical_ρ_points(r⃗, f);"
   ]
  },
  {
   "cell_type": "code",
   "execution_count": 11,
   "id": "507f60e2",
   "metadata": {},
   "outputs": [
    {
     "data": {
      "text/plain": [
       "10×3 Matrix{Float32}:\n",
       " -2.77729f-18   1.11746f-16  -1.61965f-9\n",
       " -8.21886f-7    6.91228f-18   0.670376\n",
       "  9.64199f-19   1.21076f-17  -0.670377\n",
       "  1.59386f-17   4.45761      -1.2829f-11\n",
       "  3.40471      -3.40471      -3.36881f-11\n",
       "  2.57315       3.21644       0.532813\n",
       "  3.18416       3.18416       2.3226\n",
       " -1.6956f-18    7.15339f-18   0.670375\n",
       " -2.77729f-18   1.11743f-16   2.15223f-5\n",
       "  0.0          12.5571       12.4105"
      ]
     },
     "execution_count": 11,
     "metadata": {},
     "output_type": "execute_result"
    }
   ],
   "source": [
    "r⃗_found"
   ]
  },
  {
   "cell_type": "code",
   "execution_count": 12,
   "id": "e9149ed1",
   "metadata": {},
   "outputs": [
    {
     "data": {
      "text/plain": [
       "10-element Vector{Float32}:\n",
       " 0.2637181\n",
       " 0.41073036\n",
       " 0.41073042\n",
       " 6.173389f-5\n",
       " 2.951971f-5\n",
       " 0.00011567752\n",
       " 1.9402662f-5\n",
       " 0.4107304\n",
       " 0.26371813\n",
       " 3.3823773f-16"
      ]
     },
     "execution_count": 12,
     "metadata": {},
     "output_type": "execute_result"
    }
   ],
   "source": [
    "ρ⃗"
   ]
  },
  {
   "cell_type": "code",
   "execution_count": 13,
   "id": "77e92380",
   "metadata": {},
   "outputs": [
    {
     "data": {
      "text/plain": [
       "10×1 Matrix{Float64}:\n",
       " 15.0\n",
       " 15.0\n",
       " 15.0\n",
       " 15.0\n",
       " 15.0\n",
       " 15.0\n",
       " 15.0\n",
       " 15.0\n",
       " 15.0\n",
       " 15.0"
      ]
     },
     "execution_count": 13,
     "metadata": {},
     "output_type": "execute_result"
    }
   ],
   "source": [
    "iters"
   ]
  },
  {
   "cell_type": "markdown",
   "id": "6f81cd77",
   "metadata": {},
   "source": [
    "The results are virtually identical. However, execution times start becoming dramatically different due to the parallelism capabilities of GPUs."
   ]
  },
  {
   "cell_type": "markdown",
   "id": "99044473",
   "metadata": {},
   "source": [
    "# Trying a different molecule"
   ]
  },
  {
   "cell_type": "code",
   "execution_count": 16,
   "id": "c151b073",
   "metadata": {},
   "outputs": [],
   "source": [
    "using BenchmarkTools\n",
    "\n",
    "filepath = \"test_data/S1-4PPdm.wfn\"\n",
    "i⃗ = [0 0 0;\n",
    "     0.1 0 0.3;\n",
    "     0 0 -0.2;\n",
    "     0 1 0;\n",
    "     1 -1 0;\n",
    "     0.4 0.5 0.5;\n",
    "     1 1 1;\n",
    "     -0.7 0 0;\n",
    "     0 0 0.5;\n",
    "     0 10 10] .|> Float32;"
   ]
  },
  {
   "cell_type": "code",
   "execution_count": 17,
   "id": "1812951b",
   "metadata": {},
   "outputs": [
    {
     "name": "stdout",
     "output_type": "stream",
     "text": [
      "  100.255 ms (8530 allocations: 444.46 MiB)\n"
     ]
    }
   ],
   "source": [
    "f = read_wfn(filepath, device = cpu);\n",
    "r⃗ = i⃗ |> cpu\n",
    "\n",
    "@btime r⃗_found, ρ⃗, iters = find_critical_ρ_points(r⃗, f);"
   ]
  },
  {
   "cell_type": "code",
   "execution_count": 18,
   "id": "79b961fb",
   "metadata": {},
   "outputs": [
    {
     "name": "stdout",
     "output_type": "stream",
     "text": [
      "  30.941 ms (103450 allocations: 5.08 MiB)\n"
     ]
    }
   ],
   "source": [
    "f = read_wfn(filepath, device = gpu);\n",
    "r⃗ = i⃗ |> gpu\n",
    "\n",
    "@btime r⃗_found, ρ⃗, iters = find_critical_ρ_points(r⃗, f);"
   ]
  },
  {
   "cell_type": "markdown",
   "id": "2724b9aa",
   "metadata": {},
   "source": [
    "## Trying a bigger search set"
   ]
  },
  {
   "cell_type": "code",
   "execution_count": 23,
   "id": "d3a0a502",
   "metadata": {},
   "outputs": [],
   "source": [
    "using Distributions\n",
    "#10,000 initial points\n",
    "n_points_search = 10_000\n",
    "d = Normal()\n",
    "\n",
    "i⃗ = rand(d, (n_points_search,3)) .|> Float32;"
   ]
  },
  {
   "cell_type": "code",
   "execution_count": 24,
   "id": "9e2c35a4",
   "metadata": {},
   "outputs": [
    {
     "name": "stdout",
     "output_type": "stream",
     "text": [
      "  41.066 s (8742 allocations: 70.92 GiB)\n"
     ]
    }
   ],
   "source": [
    "f = read_wfn(filepath, device = cpu);\n",
    "r⃗ = i⃗ |> cpu\n",
    "\n",
    "@btime r⃗_found, ρ⃗, iters = find_critical_ρ_points(r⃗, f);"
   ]
  },
  {
   "cell_type": "code",
   "execution_count": 25,
   "id": "adfc2c7e",
   "metadata": {},
   "outputs": [
    {
     "name": "stdout",
     "output_type": "stream",
     "text": [
      "  4.908 s (10011072 allocations: 307.41 MiB)\n"
     ]
    }
   ],
   "source": [
    "f = read_wfn(filepath, device = gpu);\n",
    "r⃗ = i⃗ |> gpu\n",
    "\n",
    "@btime r⃗_found, ρ⃗, iters = find_critical_ρ_points(r⃗, f);"
   ]
  }
 ],
 "metadata": {
  "kernelspec": {
   "display_name": "Julia 1.6.3",
   "language": "julia",
   "name": "julia-1.6"
  },
  "language_info": {
   "file_extension": ".jl",
   "mimetype": "application/julia",
   "name": "julia",
   "version": "1.6.3"
  }
 },
 "nbformat": 4,
 "nbformat_minor": 5
}
