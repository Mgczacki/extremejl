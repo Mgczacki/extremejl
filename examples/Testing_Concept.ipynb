{
 "cells": [
  {
   "cell_type": "markdown",
   "id": "c81193a9",
   "metadata": {},
   "source": [
    "For H20"
   ]
  },
  {
   "cell_type": "code",
   "execution_count": 1,
   "id": "ea525394",
   "metadata": {},
   "outputs": [],
   "source": [
    "include(\"../wfn.jl\");\n",
    "include(\"../ext21.jl\");"
   ]
  },
  {
   "cell_type": "code",
   "execution_count": 2,
   "id": "2575197c",
   "metadata": {},
   "outputs": [],
   "source": [
    "using Test"
   ]
  },
  {
   "cell_type": "code",
   "execution_count": null,
   "id": "8f067cf2",
   "metadata": {},
   "outputs": [],
   "source": []
  },
  {
   "cell_type": "code",
   "execution_count": 3,
   "id": "43f936b0",
   "metadata": {},
   "outputs": [],
   "source": [
    "function get_results(filepath, i⃗, device)\n",
    "    #Obtain the results when executing on a file for a given device, initialization.\n",
    "    f = read_wfn(filepath, device = device);\n",
    "    r⃗ = i⃗ .|> Float32 |> device\n",
    "    r⃗_found, ρ⃗, iters = find_critical_ρ_points(r⃗, f, iters=100);\n",
    "    r⃗_found |> cpu, ρ⃗ |> cpu\n",
    "end;"
   ]
  },
  {
   "cell_type": "code",
   "execution_count": 4,
   "id": "17d63248",
   "metadata": {},
   "outputs": [],
   "source": [
    "function molecule_crit_point_test(name, filepath, i⃗, r⃗_real, ρ⃗_real)\n",
    "    @testset verbose = true \"$name\" begin\n",
    "        #First obtain the calculations given same initialization for gpu, cpu\n",
    "        r⃗_g, ρ⃗_g = get_results(filepath, i⃗, gpu)\n",
    "        r⃗_c, ρ⃗_c = get_results(filepath, i⃗, cpu)\n",
    "        #Equivalence test. Pass expected only if GPU results are the same as CPU results.\n",
    "        @testset verbose = true \"Compute Equivalence\" begin\n",
    "            @test r⃗_g ≈ r⃗_c atol=0.01\n",
    "            @test ρ⃗_g ≈ ρ⃗_c atol=0.01\n",
    "        end\n",
    "        #Accuracy test. Pass expected if found values match real critical points and their ρ.\n",
    "        @testset verbose = true \"Accuracy\" begin\n",
    "            @test r⃗_g ≈ r⃗_real atol=0.01\n",
    "            @test ρ⃗_g ≈ ρ⃗_real atol=0.01 \n",
    "        end\n",
    "    end\n",
    "end;"
   ]
  },
  {
   "cell_type": "code",
   "execution_count": 152,
   "id": "6e60dba7",
   "metadata": {},
   "outputs": [
    {
     "name": "stdout",
     "output_type": "stream",
     "text": [
      "\u001b[37m\u001b[1mTest Summary:           | \u001b[22m\u001b[39m\u001b[32m\u001b[1mPass  \u001b[22m\u001b[39m\u001b[36m\u001b[1mTotal\u001b[22m\u001b[39m\n",
      "Critical Points Testset | \u001b[32m  16  \u001b[39m\u001b[36m   16\u001b[39m\n",
      "  H2O                   | \u001b[32m   4  \u001b[39m\u001b[36m    4\u001b[39m\n",
      "    Compute Equivalence | \u001b[32m   2  \u001b[39m\u001b[36m    2\u001b[39m\n",
      "    Accuracy            | \u001b[32m   2  \u001b[39m\u001b[36m    2\u001b[39m\n",
      "  H2O2                  | \u001b[32m   4  \u001b[39m\u001b[36m    4\u001b[39m\n",
      "    Compute Equivalence | \u001b[32m   2  \u001b[39m\u001b[36m    2\u001b[39m\n",
      "    Accuracy            | \u001b[32m   2  \u001b[39m\u001b[36m    2\u001b[39m\n",
      "  phen                  | \u001b[32m   4  \u001b[39m\u001b[36m    4\u001b[39m\n",
      "    Compute Equivalence | \u001b[32m   2  \u001b[39m\u001b[36m    2\u001b[39m\n",
      "    Accuracy            | \u001b[32m   2  \u001b[39m\u001b[36m    2\u001b[39m\n",
      "  tih2o6                | \u001b[32m   4  \u001b[39m\u001b[36m    4\u001b[39m\n",
      "    Compute Equivalence | \u001b[32m   2  \u001b[39m\u001b[36m    2\u001b[39m\n",
      "    Accuracy            | \u001b[32m   2  \u001b[39m\u001b[36m    2\u001b[39m\n"
     ]
    }
   ],
   "source": [
    "@testset verbose = true \"Critical Points Testset\" begin\n",
    "    #Test case for H2O\n",
    "    filepath = \"validation_data/h2o.wfn\";\n",
    "    i⃗ = [ 0.0   1.0   0.0\n",
    "         -1.5   1.5   0.0];\n",
    "    r⃗_real = [-0.106 0.777 0; -1.976 2.098 0];\n",
    "    ρ⃗_real = [0.327; 0.327];\n",
    "    molecule_crit_point_test(\"H2O\", filepath, i⃗, r⃗_real, ρ⃗_real)\n",
    "    #Test case for H2O2\n",
    "    filepath = \"validation_data/h2o2.wfn\";\n",
    "    i⃗ = [ -1.5  1.5  0.0\n",
    "          -0.1  1.0  0.0\n",
    "           1.2  0.0  1.0];\n",
    "    r⃗_real = [-2.05 2.089 -0.153; -0.257 0.911 0.199; 1.53 0.108 1.13]\n",
    "    ρ⃗_real = [0.322; 0.2046; 0.322];\n",
    "    molecule_crit_point_test(\"H2O2\", filepath, i⃗, r⃗_real, ρ⃗_real)\n",
    "    #Test case for phen (a subset of possible critical points)\n",
    "    filepath = \"validation_data/phen.wfn\";\n",
    "    i⃗ = [ 25.8  26.5  14.0\n",
    "          23.0  22.0  12.0\n",
    "          27.0  28.0  15.0\n",
    "          23.1  15.0   7.5];\n",
    "    r⃗_real = [26.375  25.207  13.630; 23.296  22.072  12.390; 27.470  28.492  15.546; 23.556 15.263 7.683]\n",
    "    ρ⃗_real = [0.02; 0.02; 0.26; 0.26];\n",
    "    molecule_crit_point_test(\"phen\", filepath, i⃗, r⃗_real, ρ⃗_real)\n",
    "    #Test case for tih2o6 (a subset of possible critical points)\n",
    "    filepath = \"validation_data/tih2o6.wfn\";\n",
    "    i⃗ = [ -1.0  1.0  0.0\n",
    "          -3.0  2.0  0.0\n",
    "          -8.0  1.0  0.0];\n",
    "    r⃗_real = [-1.178 1.157 -0.220; -3.008 2.898 0.122; -8.124 1.289 -0.664]\n",
    "    ρ⃗_real = [0.055; 0.055; 0.325];\n",
    "    molecule_crit_point_test(\"tih2o6\", filepath, i⃗, r⃗_real, ρ⃗_real)\n",
    "end;"
   ]
  }
 ],
 "metadata": {
  "kernelspec": {
   "display_name": "Julia 1.6.3",
   "language": "julia",
   "name": "julia-1.6"
  },
  "language_info": {
   "file_extension": ".jl",
   "mimetype": "application/julia",
   "name": "julia",
   "version": "1.6.3"
  }
 },
 "nbformat": 4,
 "nbformat_minor": 5
}
