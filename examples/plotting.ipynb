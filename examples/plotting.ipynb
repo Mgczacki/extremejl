{
 "cells": [
  {
   "cell_type": "code",
   "execution_count": 1,
   "id": "c5701cb5",
   "metadata": {},
   "outputs": [
    {
     "name": "stderr",
     "output_type": "stream",
     "text": [
      "┌ Info: Precompiling Plots [91a5bcdd-55d7-5caf-9e0b-520d859cae80]\n",
      "└ @ Base loading.jl:1342\n"
     ]
    }
   ],
   "source": [
    "filepath = \"test_data/phen.wfn\"\n",
    "\n",
    "using ext94\n",
    "\n",
    "using Plots\n",
    "using LaTeXStrings\n",
    "using Plots.PlotMeasures"
   ]
  },
  {
   "cell_type": "markdown",
   "id": "322b4f5f",
   "metadata": {},
   "source": [
    "# Plotting the electronic density using the provided function."
   ]
  },
  {
   "cell_type": "code",
   "execution_count": 2,
   "id": "5a6613fd",
   "metadata": {},
   "outputs": [
    {
     "data": {
      "text/plain": [
       "1-element Vector{Float32}:\n",
       " 0.0"
      ]
     },
     "execution_count": 2,
     "metadata": {},
     "output_type": "execute_result"
    }
   ],
   "source": [
    "f = read_wfn(filepath, device = cpu);\n",
    "\n",
    "get_electronic_density([0 0 0], f)"
   ]
  },
  {
   "cell_type": "code",
   "execution_count": null,
   "id": "606e5b74",
   "metadata": {},
   "outputs": [],
   "source": [
    "z = 6:0.2:19\n",
    "x = 18:0.2:32\n",
    "\n",
    "anim = @animate for y ∈ 16:0.1:28\n",
    "    fu(x, z) = begin\n",
    "        get_electronic_density(Float32.([x y z]), f)[1]\n",
    "    end\n",
    "   contour(x, z, fu, clim=(0,2), fill = true, margin = 20px)\n",
    "   title!(L\"\\rho(Y)\")\n",
    "   ylabel!(L\"Z\")\n",
    "   xlabel!(L\"X\")\n",
    "    \n",
    "   annotate!(18,20,\"Y = $y\", halign=:left, family=\"monospace\")\n",
    "end\n",
    "gif(anim, \"anim_fps20.gif\", fps = 20)"
   ]
  },
  {
   "cell_type": "markdown",
   "id": "d5093bc7",
   "metadata": {},
   "source": [
    "# Plotting the electronic density Laplacian using the provided function."
   ]
  },
  {
   "cell_type": "code",
   "execution_count": null,
   "id": "595f17c6",
   "metadata": {},
   "outputs": [],
   "source": [
    "get_electronic_density_laplacian([0 0 0], f)"
   ]
  },
  {
   "cell_type": "code",
   "execution_count": null,
   "id": "79a66b85",
   "metadata": {},
   "outputs": [],
   "source": [
    "anim = @animate for y ∈ 16:0.1:28\n",
    "    fu(x, z) = begin\n",
    "        get_electronic_density_laplacian(Float32.([x y z]), f)[1]\n",
    "    end\n",
    "   contour(x, z, fu, clim=(-3,3), fill = true, margin = 20px)\n",
    "   title!(L\"\\Delta\\rho(Y)\")\n",
    "   ylabel!(L\"Z\")\n",
    "   xlabel!(L\"X\")\n",
    "\n",
    "   annotate!(18,20,\"Y = $y\", halign=:left, family=\"monospace\")\n",
    "end\n",
    "gif(anim, \"anim_fps20_2.gif\", fps = 20)"
   ]
  }
 ],
 "metadata": {
  "kernelspec": {
   "display_name": "Julia 1.6.3",
   "language": "julia",
   "name": "julia-1.6"
  },
  "language_info": {
   "file_extension": ".jl",
   "mimetype": "application/julia",
   "name": "julia",
   "version": "1.6.3"
  }
 },
 "nbformat": 4,
 "nbformat_minor": 5
}
